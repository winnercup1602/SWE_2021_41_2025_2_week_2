{
  "nbformat": 4,
  "nbformat_minor": 0,
  "metadata": {
    "colab": {
      "provenance": []
    },
    "kernelspec": {
      "name": "python3",
      "display_name": "Python 3"
    },
    "language_info": {
      "name": "python"
    }
  },
  "cells": [
    {
      "cell_type": "markdown",
      "source": [
        "## Task\n",
        "- Complete **isHappy** function following the description below\n",
        "\n",
        "### Happy Number\n",
        "Write an algorithm to determine if a number **n** is happy.\n",
        "\n",
        "A **happy number** is a number defined by the following process:\n",
        "\n",
        "* Starting with any positive integer, replace the number by the sum of the squares of its digits.\n",
        "* Repeat the process until the number equals 1 (where it will stay), or it **loops endlessly in a cycle** which does not include 1.\n",
        "* Those numbers for which this process **ends in 1** are happy.\n",
        "\n",
        "Return **true** if n is a happy number, and **false** if not.\n",
        "\n",
        "Constraints:\n",
        "1 <= n <= $2^{31}$ - 1"
      ],
      "metadata": {
        "id": "TV3Socqg8BVl"
      }
    },
    {
      "cell_type": "code",
      "execution_count": 19,
      "metadata": {
        "id": "5FcxitVf5kdQ",
        "colab": {
          "base_uri": "https://localhost:8080/"
        },
        "outputId": "58b29232-b312-44a4-f266-f719001f74f3"
      },
      "outputs": [
        {
          "output_type": "stream",
          "name": "stdout",
          "text": [
            "1 : True\n",
            "2 : False\n",
            "3 : False\n",
            "4 : False\n",
            "5 : False\n",
            "6 : False\n",
            "7 : True\n",
            "8 : False\n",
            "9 : False\n",
            "10 : True\n",
            "11 : False\n",
            "12 : False\n",
            "13 : True\n",
            "14 : False\n",
            "15 : False\n",
            "16 : False\n",
            "17 : False\n",
            "18 : False\n",
            "19 : True\n",
            "20 : False\n",
            "21 : False\n",
            "22 : False\n",
            "23 : True\n",
            "24 : False\n",
            "25 : False\n",
            "26 : False\n",
            "27 : False\n",
            "28 : True\n",
            "29 : False\n",
            "30 : False\n",
            "31 : True\n",
            "32 : True\n",
            "33 : False\n",
            "34 : False\n",
            "35 : False\n",
            "36 : False\n",
            "37 : False\n",
            "38 : False\n",
            "39 : False\n",
            "40 : False\n",
            "41 : False\n",
            "42 : False\n",
            "43 : False\n",
            "44 : True\n",
            "45 : False\n",
            "46 : False\n",
            "47 : False\n",
            "48 : False\n",
            "49 : True\n",
            "50 : False\n",
            "51 : False\n",
            "52 : False\n",
            "53 : False\n",
            "54 : False\n",
            "55 : False\n",
            "56 : False\n",
            "57 : False\n",
            "58 : False\n",
            "59 : False\n",
            "60 : False\n",
            "61 : False\n",
            "62 : False\n",
            "63 : False\n",
            "64 : False\n",
            "65 : False\n",
            "66 : False\n",
            "67 : False\n",
            "68 : True\n",
            "69 : False\n",
            "70 : True\n",
            "71 : False\n",
            "72 : False\n",
            "73 : False\n",
            "74 : False\n",
            "75 : False\n",
            "76 : False\n",
            "77 : False\n",
            "78 : False\n",
            "79 : True\n",
            "80 : False\n",
            "81 : False\n",
            "82 : True\n",
            "83 : False\n",
            "84 : False\n",
            "85 : False\n",
            "86 : True\n",
            "87 : False\n",
            "88 : False\n",
            "89 : False\n",
            "90 : False\n",
            "91 : True\n",
            "92 : False\n",
            "93 : False\n",
            "94 : True\n",
            "95 : False\n",
            "96 : False\n",
            "97 : True\n",
            "98 : False\n",
            "99 : False\n"
          ]
        }
      ],
      "source": [
        "def getDigit(n):\n",
        "    lst = []\n",
        "    q = n//10\n",
        "    while(q!=0):\n",
        "        r = n%10\n",
        "        lst.append(r)\n",
        "        n = q\n",
        "        q = n//10\n",
        "    lst.append(n)\n",
        "\n",
        "    return lst\n",
        "\n",
        "\n",
        "def isHappy(n):\n",
        "    my_set = set()\n",
        "    my_set.add(n)\n",
        "    lst = getDigit(n)\n",
        "    while(n!=1):\n",
        "        n = sum([x**2 for x in lst])\n",
        "        if n in my_set:\n",
        "            return False\n",
        "        my_set.add(n)\n",
        "        lst = getDigit(n)\n",
        "    return True\n",
        "\n",
        "\n",
        "# for i in range(1,100):\n",
        "#     print(f'{i} : {isHappy(i)}')"
      ]
    },
    {
      "cell_type": "markdown",
      "source": [
        "**Testcase 1.**\n",
        "\n",
        "**Input**: 19\n",
        "\n",
        "**Output**: True\n",
        "\n",
        "**Explanation**:\n",
        "\n",
        "$1^2 + 9^2 = 82$\n",
        "\n",
        "$8^2 + 2^2 = 68$\n",
        "\n",
        "$6^2 + 8^2 = 100$\n",
        "\n",
        "$1^2 + 0^2 + 0^2 = 1$"
      ],
      "metadata": {
        "id": "eRrh24Ognrqf"
      }
    },
    {
      "cell_type": "markdown",
      "source": [
        "**Testcase 2.**\n",
        "\n",
        "**Input**: 2\n",
        "\n",
        "**Output**: False"
      ],
      "metadata": {
        "id": "dE7YMY8qoPoj"
      }
    }
  ]
}